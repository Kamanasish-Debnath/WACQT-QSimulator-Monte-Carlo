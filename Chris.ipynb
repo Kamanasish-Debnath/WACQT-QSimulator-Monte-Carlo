{
 "cells": [
  {
   "cell_type": "code",
   "execution_count": 1,
   "id": "2d1e7ddc",
   "metadata": {},
   "outputs": [],
   "source": [
    "import numpy as np\n",
    "from qutip import*\n",
    "import time\n",
    "import matplotlib.pyplot as plt\n",
    "import itertools as it\n",
    "sqrt = np.sqrt\n",
    "pi   = np.pi\n",
    "class Add_gate:\n",
    "    def __init__(gate, name, Tar_Con, angle):\n",
    "        gate.name    = name\n",
    "        gate.Tar_Con = Tar_Con\n",
    "        gate.angle   = angle\n",
    "                \n",
    "Nqubits= 3\n",
    "Nlevels= 3\n",
    "Paulis_gt = 4.00e-8\n",
    "CZ_gt = 2.83e-7\n",
    "gate_time_CCZS = CZ_gt/(sqrt(2))\n",
    "Diss = [27.35e-6, 39.73e-6, 34.73e-6]\n",
    "Alpha = -2*pi*210e6\n",
    "ZZ_list = [[0,1]]\n",
    "ZZ_strength = [0*2*pi*100e3]"
   ]
  },
  {
   "cell_type": "code",
   "execution_count": 2,
   "id": "0a0f9137",
   "metadata": {},
   "outputs": [],
   "source": [
    "def project_to_qubit(rho):\n",
    "    N = int(len(rho.dims[0]))\n",
    "    projector = Qobj(np.array([[1, 0, 0],[0, 1, 0]]))\n",
    "    tot_proj = tensor([projector]*N)\n",
    "    rho_proj = tot_proj*rho*tot_proj.dag()\n",
    "    return rho_proj.unit()"
   ]
  },
  {
   "cell_type": "code",
   "execution_count": 3,
   "id": "6ac2cda0",
   "metadata": {},
   "outputs": [],
   "source": [
    "T1s = [27.35e-6, 39.73e-6, 34.73e-6]\n",
    "T2s = [45.21e-6, 57.67e-6, 21.49e-6]\n",
    "\n",
    "Deph = []\n",
    "for i in range(3):\n",
    "    _1byT2 = 1/T2s[i]\n",
    "    _1byT1 = 1/(2*T1s[i])\n",
    "    Deph.append(1/(_1byT2 - _1byT1))"
   ]
  },
  {
   "cell_type": "code",
   "execution_count": 4,
   "id": "86756b7f",
   "metadata": {},
   "outputs": [
    {
     "name": "stdout",
     "output_type": "stream",
     "text": [
      "The quantum gates which are modelled in this code and their notations-\n",
      "--------------------------------------------------------------------------------\n",
      "Pauli X \t\t PX\n",
      "Pauli Y \t\t PY\n",
      "Pauli Z \t\t PZ\n",
      "Hadamard \t\t HD\n",
      "PI12 \t\t\t 1->2 transition\n",
      "\n",
      "\n",
      "Controlled Z \t\t CZ \t\t Format:Tar_Con=[[control, target]]\n",
      "Controlled CZS \t\t CCZS \t\t Format:Tar_Con=[[control, target1, target2, phi]]\n",
      "Sqrt Controlled CZS \t SCCZS \t\t Format:Tar_Con=[[control, target1, target2, phi]]\n"
     ]
    }
   ],
   "source": [
    "# Import the developed package\n",
    "import Chalmers_Simulator_mcsolve as CS"
   ]
  },
  {
   "cell_type": "code",
   "execution_count": 5,
   "id": "2c4c78b2",
   "metadata": {},
   "outputs": [],
   "source": [
    "# Create Hamiltonian and collapse operators\n",
    "Hamiltonian, c_ops = CS.create_system_Hamiltonian(Nqubits, Nlevels, Paulis_gt, CZ_gt, gate_time_CCZS, Alpha, Diss, \\\n",
    "                                                  Deph, Texc = [], ZZ_list=[], ZZ_strength=[])"
   ]
  },
  {
   "cell_type": "code",
   "execution_count": 13,
   "id": "761f42f3",
   "metadata": {},
   "outputs": [
    {
     "data": {
      "application/vnd.jupyter.widget-view+json": {
       "model_id": "b671020dc5204fc0a5e1be8a7fa91eb9",
       "version_major": 2,
       "version_minor": 0
      },
      "text/plain": [
       "  0%|          | 0/5 [00:00<?, ?it/s]"
      ]
     },
     "metadata": {},
     "output_type": "display_data"
    }
   ],
   "source": [
    "gate=[]\n",
    "gate.append(Add_gate(name=[\"HD\" , \"HD\"], Tar_Con=[0,1],   angle=[pi/2, pi/2]           ))\n",
    "Ini = tensor(basis(3,0), basis(3,0), basis(3,0))\n",
    "\n",
    "fstate = CS.Execute(Hamiltonian, c_ops, gate, Ini)    "
   ]
  },
  {
   "cell_type": "code",
   "execution_count": 14,
   "id": "1b11961c",
   "metadata": {},
   "outputs": [
    {
     "data": {
      "text/plain": [
       "5"
      ]
     },
     "execution_count": 14,
     "metadata": {},
     "output_type": "execute_result"
    }
   ],
   "source": [
    "len(fstate)"
   ]
  },
  {
   "cell_type": "code",
   "execution_count": 16,
   "id": "5513ec29",
   "metadata": {},
   "outputs": [
    {
     "data": {
      "text/latex": [
       "Quantum object: dims = [[3, 3, 3], [1, 1, 1]], shape = (27, 1), type = ket\\begin{equation*}\\left(\\begin{array}{*{11}c}(-0.501-0.029j)\\\\0.0\\\\0.0\\\\(0.500+0.005j)\\\\0.0\\\\\\vdots\\\\0.0\\\\0.0\\\\(-1.030\\times10^{-07}+2.580\\times10^{-09}j)\\\\0.0\\\\0.0\\\\\\end{array}\\right)\\end{equation*}"
      ],
      "text/plain": [
       "Quantum object: dims = [[3, 3, 3], [1, 1, 1]], shape = (27, 1), type = ket\n",
       "Qobj data =\n",
       "[[-5.00776062e-01-2.85649213e-02j]\n",
       " [ 0.00000000e+00+0.00000000e+00j]\n",
       " [ 0.00000000e+00+0.00000000e+00j]\n",
       " [ 4.99998875e-01+5.39364843e-03j]\n",
       " [ 0.00000000e+00+0.00000000e+00j]\n",
       " [ 0.00000000e+00+0.00000000e+00j]\n",
       " [-2.27281494e-04-3.62743087e-06j]\n",
       " [ 0.00000000e+00+0.00000000e+00j]\n",
       " [ 0.00000000e+00+0.00000000e+00j]\n",
       " [ 4.99937760e-01+5.39544293e-03j]\n",
       " [ 0.00000000e+00+0.00000000e+00j]\n",
       " [ 0.00000000e+00+0.00000000e+00j]\n",
       " [-4.98097528e-01+1.76404454e-02j]\n",
       " [ 0.00000000e+00+0.00000000e+00j]\n",
       " [ 0.00000000e+00+0.00000000e+00j]\n",
       " [ 2.26471316e-04-6.84809360e-06j]\n",
       " [ 0.00000000e+00+0.00000000e+00j]\n",
       " [ 0.00000000e+00+0.00000000e+00j]\n",
       " [-2.27253711e-04-3.63016753e-06j]\n",
       " [ 0.00000000e+00+0.00000000e+00j]\n",
       " [ 0.00000000e+00+0.00000000e+00j]\n",
       " [ 2.26471415e-04-6.84603780e-06j]\n",
       " [ 0.00000000e+00+0.00000000e+00j]\n",
       " [ 0.00000000e+00+0.00000000e+00j]\n",
       " [-1.02967594e-07+2.57968439e-09j]\n",
       " [ 0.00000000e+00+0.00000000e+00j]\n",
       " [ 0.00000000e+00+0.00000000e+00j]]"
      ]
     },
     "execution_count": 16,
     "metadata": {},
     "output_type": "execute_result"
    }
   ],
   "source": [
    "fstate[0]"
   ]
  },
  {
   "cell_type": "code",
   "execution_count": null,
   "id": "41c1a766",
   "metadata": {},
   "outputs": [],
   "source": []
  },
  {
   "cell_type": "code",
   "execution_count": null,
   "id": "7a63116b",
   "metadata": {},
   "outputs": [],
   "source": []
  },
  {
   "cell_type": "code",
   "execution_count": null,
   "id": "a396b8f7",
   "metadata": {},
   "outputs": [],
   "source": []
  },
  {
   "cell_type": "code",
   "execution_count": null,
   "id": "6112dd51",
   "metadata": {},
   "outputs": [],
   "source": []
  },
  {
   "cell_type": "code",
   "execution_count": null,
   "id": "df2987da",
   "metadata": {},
   "outputs": [],
   "source": []
  }
 ],
 "metadata": {
  "kernelspec": {
   "display_name": "Python 3",
   "language": "python",
   "name": "python3"
  },
  "language_info": {
   "codemirror_mode": {
    "name": "ipython",
    "version": 3
   },
   "file_extension": ".py",
   "mimetype": "text/x-python",
   "name": "python",
   "nbconvert_exporter": "python",
   "pygments_lexer": "ipython3",
   "version": "3.8.8"
  }
 },
 "nbformat": 4,
 "nbformat_minor": 5
}
