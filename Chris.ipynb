{
 "cells": [
  {
   "cell_type": "code",
   "execution_count": 1,
   "id": "2d1e7ddc",
   "metadata": {},
   "outputs": [],
   "source": [
    "import numpy as np\n",
    "from qutip import*\n",
    "import time\n",
    "import matplotlib.pyplot as plt\n",
    "import itertools as it\n",
    "sqrt = np.sqrt\n",
    "pi   = np.pi\n",
    "class Add_gate:\n",
    "    def __init__(gate, name, Tar_Con, angle):\n",
    "        gate.name    = name\n",
    "        gate.Tar_Con = Tar_Con\n",
    "        gate.angle   = angle\n",
    "                \n",
    "Nqubits= 3\n",
    "Nlevels= 3\n",
    "Paulis_gt = 4.00e-8\n",
    "CZ_gt = 2.83e-7\n",
    "gate_time_CCZS = CZ_gt/(sqrt(2))\n",
    "Diss = [27.35e-6, 39.73e-6, 34.73e-6]\n",
    "Alpha = -2*pi*210e6\n",
    "ZZ_list = [[0,1]]\n",
    "ZZ_strength = [0*2*pi*100e3]"
   ]
  },
  {
   "cell_type": "code",
   "execution_count": 2,
   "id": "0a0f9137",
   "metadata": {},
   "outputs": [],
   "source": [
    "def project_to_qubit(rho):\n",
    "    N = int(len(rho.dims[0]))\n",
    "    projector = Qobj(np.array([[1, 0, 0],[0, 1, 0]]))\n",
    "    tot_proj = tensor([projector]*N)\n",
    "    rho_proj = tot_proj*rho*tot_proj.dag()\n",
    "    return rho_proj.unit()"
   ]
  },
  {
   "cell_type": "code",
   "execution_count": 3,
   "id": "6ac2cda0",
   "metadata": {},
   "outputs": [],
   "source": [
    "T1s = [27.35e-6, 39.73e-6, 34.73e-6]\n",
    "T2s = [45.21e-6, 57.67e-6, 21.49e-6]\n",
    "\n",
    "Deph = []\n",
    "for i in range(3):\n",
    "    _1byT2 = 1/T2s[i]\n",
    "    _1byT1 = 1/(2*T1s[i])\n",
    "    Deph.append(1/(_1byT2 - _1byT1))"
   ]
  },
  {
   "cell_type": "code",
   "execution_count": 4,
   "id": "86756b7f",
   "metadata": {},
   "outputs": [
    {
     "name": "stdout",
     "output_type": "stream",
     "text": [
      "The quantum gates which are modelled in this code and their notations-\n",
      "--------------------------------------------------------------------------------\n",
      "Pauli X \t\t PX\n",
      "Pauli Y \t\t PY\n",
      "Pauli Z \t\t PZ\n",
      "Hadamard \t\t HD\n",
      "PI12 \t\t\t 1->2 transition\n",
      "\n",
      "\n",
      "Controlled Z \t\t CZ \t\t Format:Tar_Con=[[control, target]]\n",
      "Controlled CZS \t\t CCZS \t\t Format:Tar_Con=[[control, target1, target2, phi]]\n",
      "Sqrt Controlled CZS \t SCCZS \t\t Format:Tar_Con=[[control, target1, target2, phi]]\n"
     ]
    }
   ],
   "source": [
    "# Import the developed package\n",
    "import Chalmers_Simulator_mcsolve as CS"
   ]
  },
  {
   "cell_type": "code",
   "execution_count": 5,
   "id": "2c4c78b2",
   "metadata": {},
   "outputs": [],
   "source": [
    "# Create Hamiltonian and collapse operators\n",
    "Hamiltonian, c_ops = CS.create_system_Hamiltonian(Nqubits, Nlevels, Paulis_gt, CZ_gt, gate_time_CCZS, Alpha, Diss, \\\n",
    "                                                  Deph, Texc = [], ZZ_list=[], ZZ_strength=[])"
   ]
  },
  {
   "cell_type": "code",
   "execution_count": 16,
   "id": "761f42f3",
   "metadata": {},
   "outputs": [],
   "source": [
    "gate=[]\n",
    "gate.append(Add_gate(name=[\"HD\" , \"HD\"], Tar_Con=[0,1],   angle=[pi/2, pi/2]           ))\n",
    "Ini = tensor(basis(3,0), basis(3,0), basis(3,0))"
   ]
  },
  {
   "cell_type": "code",
   "execution_count": 17,
   "id": "1b11961c",
   "metadata": {},
   "outputs": [],
   "source": [
    "def main_part():\n",
    "    fstate = CS.Execute(Hamiltonian, c_ops, gate, Ini)\n",
    "    return fstate"
   ]
  },
  {
   "cell_type": "code",
   "execution_count": null,
   "id": "a94361bc",
   "metadata": {},
   "outputs": [],
   "source": [
    "ntraj = 100\n",
    "states = parallel_map(main_part, range(ntraj), num_cpus=7, progress_bar=True)"
   ]
  },
  {
   "cell_type": "code",
   "execution_count": 23,
   "id": "af28e1ae",
   "metadata": {},
   "outputs": [],
   "source": []
  },
  {
   "cell_type": "code",
   "execution_count": null,
   "id": "90ca1108",
   "metadata": {},
   "outputs": [],
   "source": []
  },
  {
   "cell_type": "code",
   "execution_count": null,
   "id": "97d2a470",
   "metadata": {},
   "outputs": [],
   "source": []
  },
  {
   "cell_type": "code",
   "execution_count": 20,
   "id": "27e33b69",
   "metadata": {},
   "outputs": [],
   "source": [
    "def Evalues(e_ops, states):\n",
    "    '''\n",
    "    This function calculates the average values of operators from all the\n",
    "    final states calculated from the trajectory approach.\n",
    "    \n",
    "    Arguments\n",
    "    --------------------\n",
    "    e_ops         :       List of operators\n",
    "    states        :       A list of final states\n",
    "    \n",
    "    \n",
    "     Returns\n",
    "    --------------------\n",
    "    Epect_values  :       A list of expectation values corresponding to the\n",
    "                          trajectories for each operators in e_ops\n",
    "    \n",
    "    \n",
    "    '''\n",
    "    \n",
    "    \n",
    "    Epect_values = []\n",
    "    for i in e_ops:\n",
    "        expt = []\n",
    "        for j in range(len(states)):\n",
    "            expt.append(expect(i, states[j]))\n",
    "        Epect_values.append(np.mean(expt))\n",
    "    return Epect_values"
   ]
  },
  {
   "cell_type": "code",
   "execution_count": null,
   "id": "2edc8bcb",
   "metadata": {},
   "outputs": [],
   "source": []
  },
  {
   "cell_type": "code",
   "execution_count": null,
   "id": "0f555811",
   "metadata": {},
   "outputs": [],
   "source": []
  }
 ],
 "metadata": {
  "kernelspec": {
   "display_name": "Python 3",
   "language": "python",
   "name": "python3"
  },
  "language_info": {
   "codemirror_mode": {
    "name": "ipython",
    "version": 3
   },
   "file_extension": ".py",
   "mimetype": "text/x-python",
   "name": "python",
   "nbconvert_exporter": "python",
   "pygments_lexer": "ipython3",
   "version": "3.8.8"
  }
 },
 "nbformat": 4,
 "nbformat_minor": 5
}
